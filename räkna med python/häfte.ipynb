{
 "metadata": {
  "language_info": {
   "codemirror_mode": {
    "name": "ipython",
    "version": 3
   },
   "file_extension": ".py",
   "mimetype": "text/x-python",
   "name": "python",
   "nbconvert_exporter": "python",
   "pygments_lexer": "ipython3",
   "version": "3.8.3-final"
  },
  "orig_nbformat": 2,
  "kernelspec": {
   "name": "python_defaultSpec_1599812085786",
   "display_name": "Python 3.8.3 64-bit ('lukas.ruokolahti': virtualenv)"
  }
 },
 "nbformat": 4,
 "nbformat_minor": 2,
 "cells": [
  {
   "cell_type": "code",
   "execution_count": 7,
   "metadata": {
    "tags": []
   },
   "outputs": [
    {
     "output_type": "stream",
     "name": "stdout",
     "text": "4.0\n"
    }
   ],
   "source": [
    "import math\n",
    "a = 3\n",
    "c = 5 \n",
    "\n",
    "uppA = a**2\n",
    "uppC = c**2\n",
    "svar = uppC - uppA\n",
    "print(math.sqrt(svar))\n"
   ]
  },
  {
   "cell_type": "code",
   "execution_count": 8,
   "metadata": {
    "tags": []
   },
   "outputs": [
    {
     "output_type": "stream",
     "name": "stdout",
     "text": "0.5\n"
    }
   ],
   "source": [
    "bas = float(input(\"Ange trianglens bas\"))\n",
    "höjd = float(input(\"ange triangelns höjd\"))\n",
    "\n",
    "kvadrat = bas * höjd\n",
    "svar = kvadrat / 2\n",
    "print(svar)"
   ]
  },
  {
   "cell_type": "code",
   "execution_count": 9,
   "metadata": {
    "tags": []
   },
   "outputs": [
    {
     "output_type": "stream",
     "name": "stdout",
     "text": "7.0\n"
    }
   ],
   "source": [
    "import math\n",
    "print(-math.log10(10**-7))"
   ]
  },
  {
   "cell_type": "code",
   "execution_count": 21,
   "metadata": {
    "tags": []
   },
   "outputs": [
    {
     "output_type": "stream",
     "name": "stdout",
     "text": "3.1622776601683795\n"
    }
   ],
   "source": [
    "#C\n",
    "x1 = float(input(\"Vad är x1?\"))\n",
    "x2 = float(input(\"vad är x2?\"))\n",
    "y1 = float(input(\"vad är y1?\"))\n",
    "y2 = float(input(\"vad är y2?\"))\n",
    "\n",
    "svar = math.sqrt((x2-x1)**2 + (y2 - y1)**2)\n",
    "print(svar)\n",
    "\n",
    "# b) x1 = 2\n",
    "#x2 = 1\n",
    "#y1 = 1\n",
    "#y2 = 0\n",
    "#svar 1,4\n",
    "\n",
    "#a) svar = 4,1"
   ]
  },
  {
   "cell_type": "code",
   "execution_count": 33,
   "metadata": {
    "tags": []
   },
   "outputs": [
    {
     "output_type": "stream",
     "name": "stdout",
     "text": "positiv\n"
    }
   ],
   "source": [
    "svar = float(input(\"Ange ett tal\"))\n",
    "\n",
    "if svar >0:\n",
    "    print(\"positiv\")\n",
    "elif svar == 0:\n",
    "    print(\"noll\")\n",
    "else:\n",
    "    print(\"negativ\")"
   ]
  },
  {
   "cell_type": "code",
   "execution_count": 38,
   "metadata": {
    "tags": []
   },
   "outputs": [
    {
     "output_type": "stream",
     "name": "stdout",
     "text": "talet är jämnt\n"
    }
   ],
   "source": [
    "svar = int(input(\"Ange ett tal\"))\n",
    "\n",
    "if svar%5 == 0:\n",
    "        print(\"talet är delbart på 5\")\n",
    "elif svar%2 ==0:\n",
    "        print(\"talet är jämnt\")\n",
    "else:\n",
    "        print(\"talet är udda\")\n"
   ]
  },
  {
   "cell_type": "code",
   "execution_count": 61,
   "metadata": {
    "tags": []
   },
   "outputs": [
    {
     "output_type": "error",
     "ename": "IndentationError",
     "evalue": "expected an indented block (<ipython-input-61-aade1b3c6e09>, line 8)",
     "traceback": [
      "\u001b[1;36m  File \u001b[1;32m\"<ipython-input-61-aade1b3c6e09>\"\u001b[1;36m, line \u001b[1;32m8\u001b[0m\n\u001b[1;33m    while svar>svar4:\u001b[0m\n\u001b[1;37m    ^\u001b[0m\n\u001b[1;31mIndentationError\u001b[0m\u001b[1;31m:\u001b[0m expected an indented block\n"
     ]
    }
   ],
   "source": [
    "\n",
    "svar = int(input(\"Ange ett tal\"))\n",
    "svar2= int(input(\"Ange ett tal\"))\n",
    "svar3= int(input(\"Ange ett tal\"))\n",
    "svar4= int(input(\"Ange ett tal\"))\n",
    "\n",
    "if svar> svar2, svar3, svar4:\n",
    "    print(f\"{svar} är det största talet\")\n",
    "    "
   ]
  },
  {
   "cell_type": "code",
   "execution_count": null,
   "metadata": {},
   "outputs": [],
   "source": []
  }
 ]
}