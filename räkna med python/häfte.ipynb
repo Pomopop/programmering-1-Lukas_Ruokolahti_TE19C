{
 "metadata": {
  "language_info": {
   "codemirror_mode": {
    "name": "ipython",
    "version": 3
   },
   "file_extension": ".py",
   "mimetype": "text/x-python",
   "name": "python",
   "nbconvert_exporter": "python",
   "pygments_lexer": "ipython3",
   "version": "3.8.3-final"
  },
  "orig_nbformat": 2,
  "kernelspec": {
   "name": "Python 3.8.3 64-bit ('base': conda)",
   "display_name": "Python 3.8.3 64-bit ('base': conda)",
   "metadata": {
    "interpreter": {
     "hash": "006a761dfdd3377fd678190bcbaa5cc18048ffb93548205824df5e9f5fedbacd"
    }
   }
  }
 },
 "nbformat": 4,
 "nbformat_minor": 2,
 "cells": [
  {
   "cell_type": "code",
   "execution_count": 7,
   "metadata": {
    "tags": []
   },
   "outputs": [
    {
     "output_type": "stream",
     "name": "stdout",
     "text": "4.0\n"
    }
   ],
   "source": [
    "import math\n",
    "a = 3\n",
    "c = 5 \n",
    "\n",
    "uppA = a**2\n",
    "uppC = c**2\n",
    "svar = uppC - uppA\n",
    "print(math.sqrt(svar))\n"
   ]
  },
  {
   "cell_type": "code",
   "execution_count": 8,
   "metadata": {
    "tags": []
   },
   "outputs": [
    {
     "output_type": "stream",
     "name": "stdout",
     "text": "0.5\n"
    }
   ],
   "source": [
    "bas = float(input(\"Ange trianglens bas\"))\n",
    "höjd = float(input(\"ange triangelns höjd\"))\n",
    "\n",
    "kvadrat = bas * höjd\n",
    "svar = kvadrat / 2\n",
    "print(svar)"
   ]
  },
  {
   "cell_type": "code",
   "execution_count": 9,
   "metadata": {
    "tags": []
   },
   "outputs": [
    {
     "output_type": "stream",
     "name": "stdout",
     "text": "7.0\n"
    }
   ],
   "source": [
    "import math\n",
    "print(-math.log10(10**-7))"
   ]
  },
  {
   "cell_type": "code",
   "execution_count": 21,
   "metadata": {
    "tags": []
   },
   "outputs": [
    {
     "output_type": "stream",
     "name": "stdout",
     "text": "3.1622776601683795\n"
    }
   ],
   "source": [
    "#C\n",
    "x1 = float(input(\"Vad är x1?\"))\n",
    "x2 = float(input(\"vad är x2?\"))\n",
    "y1 = float(input(\"vad är y1?\"))\n",
    "y2 = float(input(\"vad är y2?\"))\n",
    "\n",
    "svar = math.sqrt((x2-x1)**2 + (y2 - y1)**2)\n",
    "print(svar)\n",
    "\n",
    "# b) x1 = 2\n",
    "#x2 = 1\n",
    "#y1 = 1\n",
    "#y2 = 0\n",
    "#svar 1,4\n",
    "\n",
    "#a) svar = 4,1"
   ]
  },
  {
   "cell_type": "code",
   "execution_count": 31,
   "metadata": {
    "tags": []
   },
   "outputs": [
    {
     "output_type": "stream",
     "name": "stdout",
     "text": "positiv\n"
    }
   ],
   "source": [
    "svar = float(input(\"Ange ett tal\"))\n",
    "\n",
    "if svar >0:\n",
    "    print(\"positiv\")\n",
    "elif svar == 0:\n",
    "    print(\"noll\")\n",
    "else:\n",
    "    print(\"negativ\")"
   ]
  },
  {
   "cell_type": "code",
   "execution_count": 1,
   "metadata": {
    "tags": []
   },
   "outputs": [
    {
     "output_type": "stream",
     "name": "stdout",
     "text": "talet är delbart på 5\n"
    }
   ],
   "source": [
    "svar = int(input(\"Ange ett tal\"))\n",
    "\n",
    "if svar%5 == 0:\n",
    "        print(\"talet är delbart på 5\")\n",
    "elif svar%2 ==0:\n",
    "        print(\"talet är jämnt\")\n",
    "else:\n",
    "        print(\"talet är udda\")"
   ]
  },
  {
   "cell_type": "code",
   "execution_count": 63,
   "metadata": {
    "tags": []
   },
   "outputs": [
    {
     "output_type": "stream",
     "name": "stdout",
     "text": "7 är det största talet\n"
    }
   ],
   "source": [
    "\n",
    "svar = int(input(\"Ange ett tal\"))\n",
    "svar2= int(input(\"Ange ett tal\"))\n",
    "svar3= int(input(\"Ange ett tal\"))\n",
    "svar4= int(input(\"Ange ett tal\"))\n",
    "\n",
    "if svar> svar2 and svar > svar3 and svar > svar4:\n",
    "    print(f\"{svar} är det största talet\")\n",
    "elif svar2> svar and svar2 > svar3 and svar2 > svar4:\n",
    "    print(f\"{svar2} är det största talet\")\n",
    "elif svar3> svar and svar3 > svar2 and svar3 > svar4:\n",
    "    print(f\"{svar3} är det största talet\")\n",
    "else:\n",
    "    print(f\"{svar4} är det största talet\")\n",
    "    "
   ]
  },
  {
   "cell_type": "code",
   "execution_count": 61,
   "metadata": {
    "tags": []
   },
   "outputs": [
    {
     "output_type": "stream",
     "name": "stdout",
     "text": "Det är en trubbig vinkel\n"
    }
   ],
   "source": [
    "grad = int(input(\"ange grader\"))\n",
    "\n",
    "if grad == 360:\n",
    "     print(f\"det är en hel crikel\")\n",
    "elif grad == 90:\n",
    "    print(f\"Det är en rät vinkel\")\n",
    "elif grad == 180:\n",
    "    print(f\"Det är en rak vinkel\")\n",
    "elif grad >180 and grad <360:\n",
    "    print(f\"Det är en konvex vinkel\")\n",
    "elif grad >90:\n",
    "    print(f\"Det är en trubbig vinkel\")\n",
    "elif grad <90:\n",
    "    print(f\"Det är en spetsig vinkel\")\n",
    "\n"
   ]
  },
  {
   "cell_type": "code",
   "execution_count": 38,
   "metadata": {
    "tags": []
   },
   "outputs": [
    {
     "output_type": "stream",
     "name": "stdout",
     "text": "Cirkelns omkrets är 79\n"
    }
   ],
   "source": [
    "radie = float(input(f\"ange en radie\"))\n",
    "\n",
    "omkrets = radie**2 * 3.14159\n",
    "\n",
    "if radie >0:\n",
    "     print(f\"Cirkelns omkrets är {omkrets:.0f}\")\n",
    "else:\n",
    "     print(f\"Ditt tal är negativt, försök igen.\")"
   ]
  },
  {
   "cell_type": "code",
   "execution_count": 44,
   "metadata": {
    "tags": []
   },
   "outputs": [
    {
     "output_type": "stream",
     "name": "stdout",
     "text": "Det finns en rät vinkel\n"
    }
   ],
   "source": [
    "vinkel1 = float(input(\"ange en vinkel\"))\n",
    "vinkel2 = float(input(\"ange en annan vinkel\"))\n",
    "vinkel3 = float(input(\"ange en annan vinkel\"))\n",
    "\n",
    "if vinkel1 == 90:\n",
    "    print(\"Det finns en rät vinkel\")\n",
    "elif vinkel2 == 90:\n",
    "    print(\"Det finns en rät vinkel\")\n",
    "elif vinkel3 == 90:\n",
    "    print(\"Det finns en rät vinkel.\")\n",
    "else:\n",
    "    print(\"det finns ingen rät vinkel\")"
   ]
  },
  {
   "cell_type": "code",
   "execution_count": null,
   "metadata": {},
   "outputs": [],
   "source": []
  }
 ]
}