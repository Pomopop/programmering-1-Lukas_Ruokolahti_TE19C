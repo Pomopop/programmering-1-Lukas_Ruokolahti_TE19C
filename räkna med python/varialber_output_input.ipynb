{
 "metadata": {
  "language_info": {
   "codemirror_mode": {
    "name": "ipython",
    "version": 3
   },
   "file_extension": ".py",
   "mimetype": "text/x-python",
   "name": "python",
   "nbconvert_exporter": "python",
   "pygments_lexer": "ipython3",
   "version": "3.8.3-final"
  },
  "orig_nbformat": 2,
  "kernelspec": {
   "name": "python_defaultSpec_1600254605524",
   "display_name": "Python 3.8.3 64-bit ('lukas.ruokolahti': virtualenv)"
  }
 },
 "nbformat": 4,
 "nbformat_minor": 2,
 "cells": [
  {
   "cell_type": "markdown",
   "metadata": {},
   "source": [
    "Tyngdkraft\n"
   ]
  },
  {
   "cell_type": "code",
   "execution_count": 2,
   "metadata": {
    "tags": []
   },
   "outputs": [
    {
     "output_type": "stream",
     "name": "stdout",
     "text": "din tyngdkraft är 599.02 N\nDin tyngdkraft är 599.02N\n"
    }
   ],
   "source": [
    "#.\n",
    "g = 9.82\n",
    "m = float(input(\"hur mycket väger du?\"))\n",
    "\n",
    "F = m*g\n",
    "\n",
    "print(\"din tyngdkraft är\" ,F, \"N\")\n",
    "print(f\"Din tyngdkraft är {F}N\")"
   ]
  },
  {
   "cell_type": "code",
   "execution_count": 4,
   "metadata": {
    "tags": []
   },
   "outputs": [
    {
     "output_type": "stream",
     "name": "stdout",
     "text": "0.6 = 60%\n0.6 = 60 %\n"
    }
   ],
   "source": [
    "decimaltal = float(input(\"ange ett decimaltal\"))\n",
    "procent = decimaltal*100\n",
    "\n",
    "print(f\"{decimaltal} = {procent:.0f}%\") \n",
    "print(decimaltal, \"=\" ,round(procent),\"%\")"
   ]
  },
  {
   "cell_type": "markdown",
   "metadata": {},
   "source": [
    "K $\\rightarrow$ °C¶\n",
    "Fråga användaren att ange temperaturen i Kelvin och omvandla till °C\n"
   ]
  },
  {
   "cell_type": "code",
   "execution_count": 5,
   "metadata": {
    "tags": []
   },
   "outputs": [
    {
     "output_type": "stream",
     "name": "stdout",
     "text": "Din tempratur är -243.15 C\n"
    }
   ],
   "source": [
    "# T[°C] = T[K] − 273,15. samband mellan kelvin och celsius\n",
    "\n",
    "Kelvin = float(input(\"Ange tempraturen i kelvin\"))\n",
    "\n",
    "celsius = Kelvin - 273.15\n",
    "\n",
    "print(f\"Din tempratur är {celsius:.2f} C\")"
   ]
  },
  {
   "cell_type": "code",
   "execution_count": 8,
   "metadata": {
    "tags": []
   },
   "outputs": [
    {
     "output_type": "stream",
     "name": "stdout",
     "text": "Din tempratur är 303.15 K\n"
    }
   ],
   "source": [
    "Celcius = float(input(\"ange temraturen i kelvin\"))\n",
    "\n",
    "Kelvin = Celcius + 273.15\n",
    "\n",
    "print(f\"Din tempratur är {Kelvin:.2f} K\")\n"
   ]
  },
  {
   "cell_type": "code",
   "execution_count": 2,
   "metadata": {
    "tags": []
   },
   "outputs": [
    {
     "output_type": "stream",
     "name": "stdout",
     "text": "Din kostnad är 1200 kr\nengångkostnad = 1200 månadskostnad = 775 är månadskortet värt det? True\n"
    }
   ],
   "source": [
    "engång = 30\n",
    "månad = 775\n",
    "\n",
    "resor = float(input(\"ange hur många gånger du åker med västtrafik\"))\n",
    "kostnad = resor * 30 \n",
    "\n",
    "print(f\"Din kostnad är {kostnad:.0f} kr\")\n",
    "\n",
    "print(f\"engångkostnad = {kostnad:.0f} månadskostnad = {månad} är månadskortet värt det? {månad < kostnad}\")\n"
   ]
  }
 ]
}