{
 "metadata": {
  "language_info": {
   "codemirror_mode": {
    "name": "ipython",
    "version": 3
   },
   "file_extension": ".py",
   "mimetype": "text/x-python",
   "name": "python",
   "nbconvert_exporter": "python",
   "pygments_lexer": "ipython3",
   "version": "3.8.3-final"
  },
  "orig_nbformat": 2,
  "kernelspec": {
   "name": "Python 3.8.3 64-bit ('base': conda)",
   "display_name": "Python 3.8.3 64-bit ('base': conda)",
   "metadata": {
    "interpreter": {
     "hash": "006a761dfdd3377fd678190bcbaa5cc18048ffb93548205824df5e9f5fedbacd"
    }
   }
  }
 },
 "nbformat": 4,
 "nbformat_minor": 2,
 "cells": [
  {
   "source": [
    "for i in range (1,101):\n",
    "   print(i, end = \" \")"
   ],
   "cell_type": "code",
   "metadata": {
    "tags": []
   },
   "execution_count": 2,
   "outputs": [
    {
     "output_type": "stream",
     "name": "stdout",
     "text": "1 2 3 4 5 6 7 8 9 10 11 12 13 14 15 16 17 18 19 20 21 22 23 24 25 26 27 28 29 30 31 32 33 34 35 36 37 38 39 40 41 42 43 44 45 46 47 48 49 50 51 52 53 54 55 56 57 58 59 60 61 62 63 64 65 66 67 68 69 70 71 72 73 74 75 76 77 78 79 80 81 82 83 84 85 86 87 88 89 90 91 92 93 94 95 96 97 98 99 100 "
    }
   ]
  },
  {
   "cell_type": "code",
   "execution_count": 10,
   "metadata": {
    "tags": []
   },
   "outputs": [
    {
     "output_type": "stream",
     "name": "stdout",
     "text": "50 51 52 53 54 55 56 57 58 59 60 61 62 63 64 65 66 67 68 69 70 71 72 73 74 75 76 77 78 79 80 81 82 83 84 85 86 87 88 89 90 91 92 93 94 95 96 97 98 99 100"
    }
   ],
   "source": [
    "for i in range (50, 101):\n",
    "    print(i, end=\" \")"
   ]
  },
  {
   "cell_type": "code",
   "execution_count": 13,
   "metadata": {
    "tags": []
   },
   "outputs": [
    {
     "output_type": "stream",
     "name": "stdout",
     "text": "# # # # # # # # # # # 0\n# # # # # # # # # # # 1\n# # # # # # # # # # # 2\n# # # # # # # # # # # 3\n# # # # # # # # # # # 4\n# # # # # # # # # # # 5\n# # # # # # # # # # # 6\n# # # # # # # # # # # 7\n# # # # # # # # # # # 8\n# # # # # # # # # # # 9\n# # # # # # # # # # # 10\n"
    }
   ],
   "source": [
    "for i in range(11):\n",
    "    for j in range(11):\n",
    "        print(\"#\", end = \" \")\n",
    "    print(i)"
   ]
  },
  {
   "cell_type": "code",
   "execution_count": 21,
   "metadata": {
    "tags": []
   },
   "outputs": [
    {
     "output_type": "stream",
     "name": "stdout",
     "text": "100 99 98 97 96 95 94 93 92 91 90 89 88 87 86 85 84 83 82 81 80 79 78 77 76 75 74 73 72 71 70 69 68 67 66 65 64 63 62 61 60 59 58 57 56 55 54 53 52 51 50"
    }
   ],
   "source": [
    "for i in range (100, 49, -1):\n",
    "    print(i, end = \" \")"
   ]
  },
  {
   "cell_type": "code",
   "execution_count": 31,
   "metadata": {
    "tags": []
   },
   "outputs": [
    {
     "output_type": "stream",
     "name": "stdout",
     "text": "fjffjfjfj 55\n"
    }
   ],
   "source": [
    "s = 0 \n",
    "\n",
    "for i in range (11):\n",
    "    s += i\n",
    "print(f\"1+2+3+4+5+6+7+8+9+10 = {s}\")\n"
   ]
  },
  {
   "cell_type": "code",
   "execution_count": 54,
   "metadata": {
    "tags": []
   },
   "outputs": [
    {
     "output_type": "stream",
     "name": "stdout",
     "text": "1 2 3 4 5 6 7 8 9 10 \n\n-10 -9 -8 -7 -6 -5 -4 -3 -2 -1 0 1 2 3 4 5 6 7 8 9 10 \n\n10 9 8 7 6 5 4 3 2 1 0"
    }
   ],
   "source": [
    "#uppgift ett\n",
    "#A\n",
    "for i in range (1,11):\n",
    "    print(i, end = \" \")\n",
    "print(\"\\n\")\n",
    "#B\n",
    "for j in range (-10,11):\n",
    "    print(j, end=\" \")\n",
    "print(\"\\n\")\n",
    "#C\n",
    "for i in range (10,-1,-1):\n",
    "     print(i, end=\" \")"
   ]
  },
  {
   "cell_type": "code",
   "execution_count": 4,
   "metadata": {
    "tags": []
   },
   "outputs": [
    {
     "output_type": "stream",
     "name": "stdout",
     "text": "2 is a prime\n3 is a prime\n5 is a prime\n7 is a prime\n11 is a prime\n13 is a prime\n17 is a prime\n19 is a prime\n23 is a prime\n29 is a prime\n31 is a prime\n37 is a prime\n41 is a prime\n43 is a prime\n47 is a prime\n53 is a prime\n59 is a prime\n61 is a prime\n67 is a prime\n71 is a prime\n73 is a prime\n79 is a prime\n83 is a prime\n89 is a prime\n97 is a prime\n"
    }
   ],
   "source": [
    "#uppgift 2\n",
    "import sympy\n",
    "\n",
    "for i in range(1,101):\n",
    "    if sympy.isprime(i):\n",
    "         print(i, \"is a prime\")\n",
    "\n",
    "\n",
    "    \n",
    "\n",
    "         \n",
    "       "
   ]
  },
  {
   "cell_type": "code",
   "execution_count": 9,
   "metadata": {
    "tags": []
   },
   "outputs": [
    {
     "output_type": "stream",
     "name": "stdout",
     "text": "svar =5050\n"
    }
   ],
   "source": [
    "#uppgift 3\n",
    "\n",
    "s = 0\n",
    "for i in range(101):\n",
    "    s += i\n",
    "  \n",
    "print(f\"svar = {s}\")"
   ]
  },
  {
   "cell_type": "code",
   "execution_count": 36,
   "metadata": {
    "tags": []
   },
   "outputs": [
    {
     "output_type": "stream",
     "name": "stdout",
     "text": "svar = 2500\n"
    }
   ],
   "source": [
    "#uppgift 4\n",
    "\n",
    "s = 0\n",
    "for i in range(1,100,2):\n",
    "    s += i\n",
    "\n",
    "print(f\"svar = {s}\")"
   ]
  },
  {
   "cell_type": "code",
   "execution_count": 13,
   "metadata": {
    "tags": []
   },
   "outputs": [
    {
     "output_type": "stream",
     "name": "stdout",
     "text": "0\n5\n10\n15\n20\n25\n30\n35\n40\n45\n50\n"
    }
   ],
   "source": [
    "#uppgift 5 A\n",
    "for i in range(0,51,5):\n",
    "\n",
    " print(i)"
   ]
  },
  {
   "source": [
    "#B\n",
    "f = int(input(\"ange en multiplikationstabel.\"))\n",
    "g = int(input(\"ange start talet\"))\n",
    "h = int(input(\"ange sista talet\"))\n",
    "d = h + f\n",
    "for i in range(g,d,f):\n",
    "    print(i, end = \" \")\n"
   ],
   "cell_type": "code",
   "metadata": {
    "tags": []
   },
   "execution_count": 1,
   "outputs": [
    {
     "output_type": "stream",
     "name": "stdout",
     "text": "0 3 6 9 12 15 18 21 24 27 30 "
    }
   ]
  },
  {
   "cell_type": "code",
   "execution_count": 50,
   "metadata": {
    "tags": []
   },
   "outputs": [
    {
     "output_type": "stream",
     "name": "stdout",
     "text": "0 0 0 0 0 0 0 0 0 0 \n1 2 3 4 5 6 7 8 9 10 \n2 4 6 8 10 12 14 16 18 20 \n3 6 9 12 15 18 21 24 27 30 \n4 8 12 16 20 24 28 32 36 40 \n5 10 15 20 25 30 35 40 45 50 \n6 12 18 24 30 36 42 48 54 60 \n7 14 21 28 35 42 49 56 63 70 \n8 16 24 32 40 48 56 64 72 80 \n9 18 27 36 45 54 63 72 81 90 \n10 20 30 40 50 60 70 80 90 100 \n"
    }
   ],
   "source": [
    "#C\n",
    "x= 1\n",
    "for i in range(0,11):\n",
    "    for j in range(1,11,x):  \n",
    "        j *= i\n",
    "        print(j, end = \" \")\n",
    "    print()"
   ]
  },
  {
   "cell_type": "code",
   "execution_count": null,
   "metadata": {},
   "outputs": [],
   "source": [
    "# uppgift 6\n",
    "for i in range()"
   ]
  }
 ]
}