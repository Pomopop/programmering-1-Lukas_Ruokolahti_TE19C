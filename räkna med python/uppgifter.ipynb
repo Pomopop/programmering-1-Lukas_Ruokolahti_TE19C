{
 "metadata": {
  "language_info": {
   "codemirror_mode": {
    "name": "ipython",
    "version": 3
   },
   "file_extension": ".py",
   "mimetype": "text/x-python",
   "name": "python",
   "nbconvert_exporter": "python",
   "pygments_lexer": "ipython3",
   "version": "3.8.3-final"
  },
  "orig_nbformat": 2,
  "kernelspec": {
   "name": "python_defaultSpec_1600861867908",
   "display_name": "Python 3.8.3 64-bit ('base': conda)"
  }
 },
 "nbformat": 4,
 "nbformat_minor": 2,
 "cells": [
  {
   "cell_type": "code",
   "execution_count": 1,
   "metadata": {
    "tags": []
   },
   "outputs": [
    {
     "output_type": "stream",
     "name": "stdout",
     "text": "12 - 7 är...\n5\n"
    }
   ],
   "source": [
    "ett = 12\n",
    "två = 7\n",
    "\n",
    "print(\"12 - 7 är...\")\n",
    "print(ett - två)"
   ]
  },
  {
   "cell_type": "code",
   "execution_count": 6,
   "metadata": {
    "tags": []
   },
   "outputs": [
    {
     "output_type": "stream",
     "name": "stdout",
     "text": "Hej! hur mår du?\n"
    }
   ],
   "source": [
    "print(\"Hej! hur mår du?\")"
   ]
  },
  {
   "cell_type": "code",
   "execution_count": 12,
   "metadata": {
    "tags": []
   },
   "outputs": [
    {
     "output_type": "stream",
     "name": "stdout",
     "text": "30\n59\n168\n"
    }
   ],
   "source": [
    "läsk = 15\n",
    "hamburgare = 29\n",
    "pommes = 12\n",
    "morot = 12\n",
    "\n",
    "print(läsk + läsk)\n",
    "print(läsk + läsk + hamburgare)\n",
    "print(läsk *3 + hamburgare *3 + pommes *3)"
   ]
  },
  {
   "cell_type": "code",
   "execution_count": 13,
   "metadata": {
    "tags": []
   },
   "outputs": [
    {
     "output_type": "stream",
     "name": "stdout",
     "text": "9863\n"
    }
   ],
   "source": [
    "print(219 * 45 + 8)"
   ]
  },
  {
   "cell_type": "code",
   "execution_count": 39,
   "metadata": {
    "tags": []
   },
   "outputs": [
    {
     "output_type": "stream",
     "name": "stdout",
     "text": "hej + hej\nhejhejhej\nhejhejhejhejhejhejhejhejhejhej\n"
    }
   ],
   "source": [
    "# hej 3 gånger\n",
    "print(\"hej + hej\")\n",
    "print(3 * \"hej\")\n",
    "\n",
    "print(10* \"hej\")\n"
   ]
  },
  {
   "cell_type": "code",
   "execution_count": null,
   "metadata": {
    "tags": []
   },
   "outputs": [],
   "source": [
    "# 1 till A, 2 till D, 3 till C, 4 till B"
   ]
  },
  {
   "cell_type": "code",
   "execution_count": 48,
   "metadata": {
    "tags": []
   },
   "outputs": [
    {
     "output_type": "stream",
     "name": "stdout",
     "text": "23\n5\n"
    }
   ],
   "source": [
    "print(3 + 2 * 10)\n",
    "print(5 * (8-7))\n",
    "# programmet tar hänsyn till regelerna"
   ]
  },
  {
   "cell_type": "code",
   "execution_count": 51,
   "metadata": {
    "tags": []
   },
   "outputs": [
    {
     "output_type": "stream",
     "name": "stdout",
     "text": "4\n9\n16\n"
    }
   ],
   "source": [
    "print(2**2)\n",
    "print(3**2)\n",
    "print(4**2)\n",
    "# det betyder upphöjt till"
   ]
  },
  {
   "cell_type": "code",
   "execution_count": 3,
   "metadata": {
    "tags": []
   },
   "outputs": [
    {
     "output_type": "stream",
     "name": "stdout",
     "text": "3.0\n"
    }
   ],
   "source": []
  },
  {
   "cell_type": "code",
   "execution_count": 7,
   "metadata": {
    "tags": []
   },
   "outputs": [
    {
     "output_type": "stream",
     "name": "stdout",
     "text": "7.0\n"
    }
   ],
   "source": []
  },
  {
   "cell_type": "code",
   "execution_count": 14,
   "metadata": {
    "tags": []
   },
   "outputs": [
    {
     "output_type": "stream",
     "name": "stdout",
     "text": "4.123105625617661\n"
    }
   ],
   "source": [
    "#C\n",
    "x1 = float(input(\"Vad är x1?\"))\n",
    "x2 = float(input(\"vad är x2?\"))\n",
    "y1 = float(input(\"vad är y1?\"))\n",
    "y2 = float(input(\"vad är y2?\"))\n",
    "\n",
    "svar = math.sqrt((x2-x1)**2 + (y2 - y1)**2)\n",
    "print(svar)\n",
    "\n",
    "# b) x1 = 2\n",
    "#x2 = 1\n",
    "#y1 = 1\n",
    "#y2 = 0\n",
    "#svar 1,4\n",
    "\n",
    "#a) svar = 4,1"
   ]
  },
  {
   "cell_type": "code",
   "execution_count": null,
   "metadata": {
    "tags": []
   },
   "outputs": [],
   "source": [
    "svar = float(input(\"Ange ett tal\"))\n"
   ]
  }
 ]
}