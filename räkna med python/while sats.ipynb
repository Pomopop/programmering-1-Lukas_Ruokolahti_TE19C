{
 "metadata": {
  "language_info": {
   "codemirror_mode": {
    "name": "ipython",
    "version": 3
   },
   "file_extension": ".py",
   "mimetype": "text/x-python",
   "name": "python",
   "nbconvert_exporter": "python",
   "pygments_lexer": "ipython3",
   "version": "3.8.3-final"
  },
  "orig_nbformat": 2,
  "kernelspec": {
   "name": "Python 3.8.3 64-bit ('base': conda)",
   "display_name": "Python 3.8.3 64-bit ('base': conda)",
   "metadata": {
    "interpreter": {
     "hash": "006a761dfdd3377fd678190bcbaa5cc18048ffb93548205824df5e9f5fedbacd"
    }
   }
  }
 },
 "nbformat": 4,
 "nbformat_minor": 2,
 "cells": [
  {
   "cell_type": "code",
   "execution_count": 36,
   "metadata": {
    "tags": []
   },
   "outputs": [
    {
     "output_type": "stream",
     "name": "stdout",
     "text": "5050\n"
    }
   ],
   "source": [
    "# 1)\n",
    "x= 1\n",
    "summa = 0\n",
    "while x < 101:\n",
    "    \n",
    "    summa = summa + x\n",
    "    x += 1\n",
    "    \n",
    "print(f\"{summa}\")\n"
   ]
  },
  {
   "cell_type": "code",
   "execution_count": 52,
   "metadata": {
    "tags": []
   },
   "outputs": [
    {
     "output_type": "stream",
     "name": "stdout",
     "text": "2500\n"
    }
   ],
   "source": [
    "#2)\n",
    "x = 1\n",
    "summa = 0\n",
    "while x <= 100:\n",
    "    summa = summa + x\n",
    "    x+= 2\n",
    "\n",
    "print(f\"{summa}\")"
   ]
  },
  {
   "cell_type": "code",
   "execution_count": null,
   "metadata": {},
   "outputs": [],
   "source": [
    "#3)\n",
    "\"\"\"\n",
    "1 + 1/2 + 1/4 + 1/8 ...\n",
    "=2^0 + 2^-1 + 2^-2, 2^-3 ...\n",
    "\"\"\"\n",
    "s = 1 +\n"
   ]
  },
  {
   "cell_type": "code",
   "execution_count": 6,
   "metadata": {
    "tags": []
   },
   "outputs": [
    {
     "output_type": "stream",
     "name": "stdout",
     "text": [
      "mindre\n"
     ]
    }
   ],
   "source": [
    "#5) \n",
    "import random as rnd\n",
    "\n",
    "a = rnd.randint(0,101)\n",
    "b = float(input(\"Ange tal mellan 1 och 100\"))\n",
    "\n",
    "while b != a:\n",
    "    if b > a:\n",
    "        print(\"mindre\")\n",
    "        break\n",
    "    elif a > b:\n",
    "        print(\"större\")\n",
    "        break\n",
    "if b == a:\n",
    "    print(f\"{b} är rätt!\")\n"
   ]
  },
  {
   "cell_type": "code",
   "execution_count": 7,
   "metadata": {
    "tags": []
   },
   "outputs": [
    {
     "output_type": "stream",
     "name": "stdout",
     "text": [
      "det tar 5 år för mjölken att bli sur\n"
     ]
    }
   ],
   "source": [
    "\"\"\"\n",
    "1L mjölk innehåller 1500000 bakterier\n",
    "I rumstemp ökar antalet med 50% varje timme\n",
    "Mjörk blir sur när den överstiger 10000000 st\n",
    "hur många timmar tar det tills mjölken blir sur?\n",
    "\"\"\"\n",
    "\n",
    "b = 1500000\n",
    "ö = 10000000\n",
    "h = 1.5\n",
    "x = 0\n",
    "\n",
    "while ö > b:\n",
    "    b *= h\n",
    "    x += 1 \n",
    "\n",
    "print(f\"det tar {x} timmar för mjölken att bli sur\")"
   ]
  },
  {
   "cell_type": "code",
   "execution_count": null,
   "metadata": {},
   "outputs": [],
   "source": []
  }
 ]
}