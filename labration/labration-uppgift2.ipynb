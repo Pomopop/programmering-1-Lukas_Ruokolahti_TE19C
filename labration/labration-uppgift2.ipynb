{
 "metadata": {
  "language_info": {
   "codemirror_mode": {
    "name": "ipython",
    "version": 3
   },
   "file_extension": ".py",
   "mimetype": "text/x-python",
   "name": "python",
   "nbconvert_exporter": "python",
   "pygments_lexer": "ipython3",
   "version": "3.8.3-final"
  },
  "orig_nbformat": 2,
  "kernelspec": {
   "name": "Python 3.8.3 64-bit (conda)",
   "display_name": "Python 3.8.3 64-bit (conda)",
   "metadata": {
    "interpreter": {
     "hash": "006a761dfdd3377fd678190bcbaa5cc18048ffb93548205824df5e9f5fedbacd"
    }
   }
  }
 },
 "nbformat": 4,
 "nbformat_minor": 2,
 "cells": [
  {
   "source": [
    "                   \n",
    "                   \n",
    "                       Labration uppgift 2 a), B), c), d), e) f)"
   ],
   "cell_type": "markdown",
   "metadata": {}
  },
  {
   "cell_type": "code",
   "execution_count": 1,
   "metadata": {},
   "outputs": [
    {
     "output_type": "stream",
     "name": "stdout",
     "text": [
      "0 1 2 3 4 5 6 7 8 9 10 11 12 13 14 15 16 17 18 19 20 21 22 23 24 25 26 27 28 29 30 31 32 33 34 35 36 37 38 39 40 41 42 43 44 45 46 47 48 49 50 51 52 53 54 55 56 57 58 59 60 61 62 63 64 65 66 67 68 69 70 71 72 73 74 75 76 77 78 79 80 81 82 83 84 85 86 87 88 89 90 91 92 93 94 95 96 97 98 99 100 "
     ]
    }
   ],
   "source": [
    "#a)\n",
    "for i in range (1,101): #Skriver ut alla nummer från 1 till 100. \n",
    "   print(i, end = ' ') #skrivet ut svaret till konsolen"
   ]
  },
  {
   "cell_type": "code",
   "execution_count": 10,
   "metadata": {},
   "outputs": [
    {
     "output_type": "stream",
     "name": "stdout",
     "text": [
      "1 2 3 4 burr 6 7 8 9 burr 11 12 13 14 burr 16 17 18 19 burr 21 22 23 24 burr 26 27 28 29 burr 31 32 33 34 burr 36 37 38 39 burr 41 42 43 44 burr 46 47 48 49 burr 51 52 53 54 burr 56 57 58 59 burr 61 62 63 64 burr 66 67 68 69 burr 71 72 73 74 burr 76 77 78 79 burr 81 82 83 84 burr 86 87 88 89 burr 91 92 93 94 burr 96 97 98 99 burr "
     ]
    }
   ],
   "source": [
    "#b)\n",
    "\n",
    "for i in range (1,101):\n",
    "    if i%5 == 0: #om talet är delbart med fem och lämnar ingen rest så printar den \"burr\" istället. \n",
    "        print(\"burr\", end = ' ')\n",
    "    else: #Om talet inte är delbart med fem printar koden talet istället. \n",
    "        print(i, end = ' ')\n",
    "        \n"
   ]
  },
  {
   "cell_type": "code",
   "execution_count": 1,
   "metadata": {},
   "outputs": [
    {
     "output_type": "stream",
     "name": "stdout",
     "text": [
      "1 2 3 4 5 6 7 8 9 10 11 12 13 14 15 16 17 18 19 20 21 22 23 24 burr 26 27 28 29 30 31 32 33 34 35 36 37 38 39 40 41 42 43 44 45 46 47 48 49 burr 51 52 53 54 55 56 57 58 59 60 61 62 63 64 65 66 67 68 69 70 71 72 73 74 burr 76 77 78 79 80 81 82 83 84 85 86 87 88 89 90 91 92 93 94 95 96 97 98 99 burr "
     ]
    }
   ],
   "source": [
    "#c) \n",
    "burr = float(input(\"ange variabel burr\")) #Låter användaren skriva in vad \"burr\" ska ha för värde. \n",
    "\n",
    "for i in range(1,101):\n",
    "    if i%burr == 0: \n",
    "        print(\"burr\", end = ' ')\n",
    "    else:\n",
    "        print(i, end = ' ')"
   ]
  },
  {
   "cell_type": "code",
   "execution_count": 9,
   "metadata": {},
   "outputs": [
    {
     "output_type": "stream",
     "name": "stdout",
     "text": [
      "1 2 burr 4 5 burr 7 8 burr 10 11 burr 13 14 burr 16 17 burr 19 20 burr 22 23 burr 25 26 burr 28 29 burr 31 32 burr 34 35 burr 37 38 burr 40 41 burr 43 44 burr 46 47 burr 49 50 burr 52 53 burr 55 56 burr 58 59 burr 61 62 burr 64 65 burr 67 68 burr 70 71 burr 73 74 burr 76 77 burr 79 80 burr 82 83 burr 85 86 burr 88 89 burr 91 92 burr 94 95 burr 97 98 burr 100 "
     ]
    }
   ],
   "source": [
    "#d) #ändra kanske\n",
    "birr = float(input(\"ange variabel birr\"))\n",
    "burr = float(input(\"ange variabel burr\"))\n",
    "\n",
    "\n",
    "for i in range(1,101):\n",
    "    if i%birr == 0:\n",
    "        print(\"birr\", end = ' ') #Kollar om det är delbart med birr\n",
    "    elif i%burr ==0:\n",
    "        print(\"burr\", end = ' ') #kollar om det är delbart med burr\n",
    "    else:\n",
    "        print(i, end = ' ')"
   ]
  },
  {
   "cell_type": "code",
   "execution_count": 5,
   "metadata": {},
   "outputs": [
    {
     "output_type": "stream",
     "name": "stdout",
     "text": [
      "1 burr 3 burr birr burr 7 burr 9 birr burr 11 burr 13 burr birr burr 17 burr 19 birr burr 21 burr 23 burr birr burr 27 burr 29 birr burr 31 burr 33 burr birr burr 37 burr 39 birr burr 41 burr 43 burr birr burr 47 burr 49 birr burr 51 burr 53 burr birr burr 57 burr 59 birr burr 61 burr 63 burr birr burr 67 burr 69 birr burr 71 burr 73 burr birr burr 77 burr 79 birr burr 81 burr 83 burr birr burr 87 burr 89 birr burr 91 burr 93 burr birr burr 97 burr 99 birr burr  \n \nbirrantal = 10 burrantal = 40 birrburr antal = 10\n"
     ]
    }
   ],
   "source": [
    "start = int(input(\"ange ditt starttal\"))\n",
    "end = int(input(\"ange ditt sluttal\"))\n",
    "slut = end + 1\n",
    "burr = int(input(\"ange ett tal för varibal burr\"))\n",
    "birr = int(input(\"ange ett tal för varibal birr\"))\n",
    "\n",
    "burrbirrantal = 0\n",
    "burrantal = 0\n",
    "birrantal = 0 #varibaler som if satserna kan addera på. \n",
    "\n",
    "for i in range(start,slut):\n",
    "    if i%burr == 0 and i%birr == 0: #Kollar om talet är en multipel av både birr och burr\n",
    "        burrbirrantal += 1\n",
    "        print(\"birr burr\", end = ' ')\n",
    "    elif i%burr == 0:\n",
    "        burrantal += 1\n",
    "        print(\"burr\", end = ' ')\n",
    "    elif i%birr == 0:\n",
    "        birrantal += 1\n",
    "        print(\"birr\", end = ' ')\n",
    "    else:\n",
    "        print(i, end = ' ')\n",
    "\n",
    "print(\" \\n \") #printar en tom rad i konsolen. \n",
    "print(f\"birrantal = {birrantal} burrantal = {burrantal} birrburr antal = {burrbirrantal}\")"
   ]
  },
  {
   "cell_type": "code",
   "execution_count": 3,
   "metadata": {},
   "outputs": [
    {
     "output_type": "stream",
     "name": "stdout",
     "text": [
      "1 (2 = burr) 3 (4 = burr) (5 =birr) (6 = burr) 7 (8 = burr) 9 /10 =birr burr) 11 (12 = burr) 13 (14 = burr) (15 =birr) (16 = burr) 17 (18 = burr) 19 /20 =birr burr) 21 (22 = burr) 23 (24 = burr) (25 =birr) (26 = burr) 27 (28 = burr) 29 /30 =birr burr) 31 (32 = burr) 33 (34 = burr) (35 =birr) (36 = burr) 37 (38 = burr) 39 /40 =birr burr) 41 (42 = burr) 43 (44 = burr) (45 =birr) (46 = burr) 47 (48 = burr) 49 /50 =birr burr) 51 (52 = burr) 53 (54 = burr) (55 =birr) (56 = burr) 57 (58 = burr) 59 /60 =birr burr) 61 (62 = burr) 63 (64 = burr) (65 =birr) (66 = burr) 67 (68 = burr) 69 /70 =birr burr) 71 (72 = burr) 73 (74 = burr) (75 =birr) (76 = burr) 77 (78 = burr) 79 /80 =birr burr) 81 (82 = burr) 83 (84 = burr) (85 =birr) (86 = burr) 87 (88 = burr) 89 /90 =birr burr) 91 (92 = burr) 93 (94 = burr) (95 =birr) (96 = burr) 97 (98 = burr) 99 /100 =birr burr)  \n \nbirrantal = 10 burrantal = 40 birrburr antal = 10\n"
     ]
    }
   ],
   "source": [
    "#Man kan förbättra programmet genom att visa vilka tal blir birr, burr och birrburr.\n",
    "\n",
    "start = int(input(\"ange ditt starttal\"))\n",
    "end = int(input(\"ange ditt sluttal\"))\n",
    "slut = end + 1\n",
    "burr = int(input(\"ange ett tal för varibal burr\"))\n",
    "birr = int(input(\"ange ett tal för varibal birr\"))\n",
    "\n",
    "burrbirrantal = 0\n",
    "burrantal = 0\n",
    "birrantal = 0\n",
    "\n",
    "for i in range(start,slut):\n",
    "    if i%burr == 0 and i%birr == 0:\n",
    "        burrbirrantal += 1\n",
    "        print(f\"/{i} =birr burr)\", end = ' ') # print(f\"/{i} =birr burr)\" gör att man printar {i} som är nästa tal i ledet, och sedan så berättar den att det är birr burr genom text. \n",
    "    elif i%burr == 0:\n",
    "        burrantal += 1\n",
    "        print(f\"({i} = burr)\", end = ' ')\n",
    "    elif i%birr == 0:\n",
    "        birrantal += 1\n",
    "        print(f\"({i} =birr)\", end = ' ')\n",
    "    else:\n",
    "        print(i, end = ' ')\n",
    "\n",
    "print(\" \\n \")\n",
    "print(f\"birrantal = {birrantal} burrantal = {burrantal} birrburr antal = {burrbirrantal}\")"
   ]
  },
  {
   "cell_type": "code",
   "execution_count": null,
   "metadata": {},
   "outputs": [],
   "source": []
  }
 ]
}